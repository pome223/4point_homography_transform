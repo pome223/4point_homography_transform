{
 "cells": [
  {
   "cell_type": "code",
   "execution_count": 1,
   "metadata": {},
   "outputs": [],
   "source": [
    "import cv2\n",
    "import numpy as np\n",
    "import matplotlib.pyplot as plt\n",
    "from matplotlib.patches import Polygon"
   ]
  },
  {
   "cell_type": "code",
   "execution_count": 2,
   "metadata": {},
   "outputs": [],
   "source": [
    "img = cv2.imread('img001.jpg')"
   ]
  },
  {
   "cell_type": "markdown",
   "metadata": {},
   "source": [
    "# 輪郭抽出(台形の4頂点を検出する)"
   ]
  },
  {
   "cell_type": "code",
   "execution_count": 3,
   "metadata": {},
   "outputs": [],
   "source": [
    "#画像の2値化\n",
    "def binalizeByAdaptive(img):\n",
    "    r = img.copy()\n",
    "\n",
    "    # R, G値のみ取り出しグレースケール化\n",
    "    green = r[:,:,1]\n",
    "    red = r[:,:,2]\n",
    "    redGreen = cv2.fastNlMeansDenoisingColored(r,None,10,10,7,21)\n",
    "    redGreen = cv2.addWeighted(red, 0.5, green, 0.5, 0)  \n",
    "    # binalize\n",
    "    th_red = cv2.adaptiveThreshold(redGreen,255,cv2.ADAPTIVE_THRESH_GAUSSIAN_C,cv2.THRESH_BINARY_INV,7,1)\n",
    "    \n",
    "    # cleaning noise by opening\n",
    "    kernel = np.ones((1,1),np.uint8)\n",
    "    th_red = cv2.morphologyEx(th_red, cv2.MORPH_OPEN, kernel)\n",
    "\n",
    "    # cv2.waitKey(0)\n",
    "    fig, ax = plt.subplots(figsize=(5, 5))\n",
    "    plt.imshow(th_red)\n",
    "    plt.show()\n",
    "\n",
    "    return th_red"
   ]
  },
  {
   "cell_type": "code",
   "execution_count": 4,
   "metadata": {
    "scrolled": true
   },
   "outputs": [
    {
     "data": {
      "image/png": "[encoded data removed]",
      "text/plain": [
       "<Figure size 360x360 with 1 Axes>"
      ]
     },
     "metadata": {
      "needs_background": "light"
     },
     "output_type": "display_data"
    }
   ],
   "source": [
    "th_red=binalizeByAdaptive(img)"
   ]
  },
  {
   "cell_type": "code",
   "execution_count": 5,
   "metadata": {},
   "outputs": [],
   "source": [
    "#輪郭の検出\n",
    "image, contours, hierarchy = cv2.findContours(th_red,cv2.RETR_TREE, cv2.CHAIN_APPROX_SIMPLE)"
   ]
  },
  {
   "cell_type": "code",
   "execution_count": 6,
   "metadata": {
    "scrolled": true
   },
   "outputs": [
    {
     "data": {
      "text/plain": [
       "<matplotlib.image.AxesImage at 0x1f53ed22860>"
      ]
     },
     "execution_count": 6,
     "metadata": {},
     "output_type": "execute_result"
    },
    {
     "data": {
      "image/png": "[encoded data removed]",
      "text/plain": [
       "<Figure size 432x288 with 1 Axes>"
      ]
     },
     "metadata": {
      "needs_background": "light"
     },
     "output_type": "display_data"
    }
   ],
   "source": [
    "#検出した輪郭の描画\n",
    "img_co = cv2.drawContours(img.copy(), contours, -1, (255,0,0), 3)\n",
    "plt.imshow(img_co)"
   ]
  },
  {
   "cell_type": "code",
   "execution_count": 7,
   "metadata": {},
   "outputs": [
    {
     "name": "stdout",
     "output_type": "stream",
     "text": [
      "Success!\n"
     ]
    }
   ],
   "source": [
    "size = img.shape[0] * img.shape[1]\n",
    "tmp_img=image.copy()\n",
    "max_area = 0\n",
    "approxs = []\n",
    "\n",
    "# 入力座標の選定\n",
    "best_white = 0\n",
    "best_rate = 0.0\n",
    "best_approx = []\n",
    "dict_approx = {}\n",
    "\n",
    "for cnt in contours:\n",
    "    area = cv2.contourArea(cnt)\n",
    "    epsilon = 0.1 * cv2.arcLength(cnt, True)\n",
    "    hull = cv2.convexHull(cnt)\n",
    "    # 面積が1%以上、99%未満\n",
    "    if size * 0.01 <= area and area <= size * 0.99 and max_area < area:\n",
    "        best_approx = hull\n",
    "        max_area = area\n",
    "        #四角形で輪郭を近似する\n",
    "        rect = cv2.minAreaRect(hull)\n",
    "        box = cv2.boxPoints(rect)\n",
    "        box = np.int0(box)\n",
    "\n",
    "if 0 != max_area:\n",
    "    print('Success!')\n",
    "else:\n",
    "    print('Failed')"
   ]
  },
  {
   "cell_type": "code",
   "execution_count": 8,
   "metadata": {
    "scrolled": true
   },
   "outputs": [],
   "source": [
    "def draw_contours(ax, img, cnt):\n",
    "    ax.imshow(img.copy())\n",
    "    ax.axis('off')\n",
    "    cnt = np.squeeze(cnt, axis=1)  # (NumPoints, 1, 2) -> (NumPoints, 2)\n",
    "    # 輪郭の点同士を結ぶ線を描画する。\n",
    "    ax.add_patch(Polygon(cnt, color='b', fill=None, lw=2))\n",
    "    # 輪郭の点を描画する。\n",
    "    ax.plot(cnt[:, 0], cnt[:, 1], 'ro', mew=0, ms=4)"
   ]
  },
  {
   "cell_type": "code",
   "execution_count": 9,
   "metadata": {
    "scrolled": true
   },
   "outputs": [
    {
     "data": {
      "image/png": "[encoded data removed]",
      "text/plain": [
       "<Figure size 720x720 with 1 Axes>"
      ]
     },
     "metadata": {
      "needs_background": "light"
     },
     "output_type": "display_data"
    }
   ],
   "source": [
    "imtest = cv2.drawContours(img.copy(),[box.astype(int)],0,(0,0,255),2)\n",
    "fig, ax = plt.subplots(figsize=(10, 10))\n",
    "draw_contours(ax, imtest, best_approx)\n",
    "plt.show()"
   ]
  },
  {
   "cell_type": "code",
   "execution_count": 10,
   "metadata": {
    "scrolled": true
   },
   "outputs": [],
   "source": [
    "#後の計算のためにデータ構造を変更\n",
    "shape=best_approx.shape\n",
    "_best_approx=best_approx.reshape(shape[0],shape[2])"
   ]
  },
  {
   "cell_type": "code",
   "execution_count": 11,
   "metadata": {},
   "outputs": [
    {
     "data": {
      "text/plain": [
       "(4, 2)"
      ]
     },
     "execution_count": 11,
     "metadata": {},
     "output_type": "execute_result"
    }
   ],
   "source": [
    "#元画像の4頂点（四隅）を求める\n",
    "imcorners=np.array([[0,0],[img.shape[0],0],[0,img.shape[1]],[img.shape[0],img.shape[1]]])\n",
    "imcorners.shape"
   ]
  },
  {
   "cell_type": "code",
   "execution_count": 12,
   "metadata": {},
   "outputs": [],
   "source": [
    "#検出した輪郭の頂点と元画像の四隅の距離を計算\n",
    "all_diffs = np.expand_dims(_best_approx, axis=1) - np.expand_dims(imcorners, axis=0)\n",
    "distance = np.sqrt(np.sum(all_diffs ** 2, axis=-1)).astype(np.int32)"
   ]
  },
  {
   "cell_type": "code",
   "execution_count": 13,
   "metadata": {},
   "outputs": [],
   "source": [
    "#検出した輪郭の中で元画像の四隅とそれぞれ最も距離が近い点を物体にの4頂点とする\n",
    "index_min=distance.argmin(axis=0)\n",
    "ltop=_best_approx[index_min[0]]\n",
    "rtop=_best_approx[index_min[1]]\n",
    "lbottom=_best_approx[index_min[2]]\n",
    "rbottom=_best_approx[index_min[3]]"
   ]
  },
  {
   "cell_type": "markdown",
   "metadata": {},
   "source": [
    "# 検出した台形の射影変換"
   ]
  },
  {
   "cell_type": "code",
   "execution_count": 14,
   "metadata": {},
   "outputs": [],
   "source": [
    "#画像の横と縦の長さを切り出す\n",
    "rows,cols,ch = img.shape\n",
    "\n",
    "# 画像の座標上から4角を切り出す\n",
    "# pts1 = np.float32([[左上の座標],[右上の座標],[左下の座標],[右下の座標]])\n",
    "pts1 = np.float32([ltop,rtop,lbottom,rbottom])\n",
    "pts2 = np.float32([[0,0],[cols,0],[0,rows],[cols,rows]])\n",
    "\n",
    "# 透視変換の行列を求める\n",
    "M = cv2.getPerspectiveTransform(pts1,pts2)\n",
    "rst = cv2.warpPerspective(img,M,(cols,rows))\n"
   ]
  },
  {
   "cell_type": "code",
   "execution_count": 15,
   "metadata": {},
   "outputs": [
    {
     "data": {
      "image/png": "[encoded data removed]",
      "text/plain": [
       "<Figure size 432x288 with 2 Axes>"
      ]
     },
     "metadata": {
      "needs_background": "light"
     },
     "output_type": "display_data"
    }
   ],
   "source": [
    "plt.subplot(121),plt.imshow(img),plt.title('Input')\n",
    "plt.subplot(122),plt.imshow(rst),plt.title('Output')\n",
    "plt.show()"
   ]
  },
  {
   "cell_type": "markdown",
   "metadata": {},
   "source": [
    "## 元に戻してみる"
   ]
  },
  {
   "cell_type": "code",
   "execution_count": 16,
   "metadata": {},
   "outputs": [],
   "source": [
    "# 透視変換の行列の逆行列を求める(\n",
    "M_=np.linalg.inv(M) \n",
    "rst_ = cv2.warpPerspective(rst,M_,(cols,rows))"
   ]
  },
  {
   "cell_type": "code",
   "execution_count": 17,
   "metadata": {},
   "outputs": [
    {
     "data": {
      "image/png": "[encoded data removed]",
      "text/plain": [
       "<Figure size 432x288 with 2 Axes>"
      ]
     },
     "metadata": {
      "needs_background": "light"
     },
     "output_type": "display_data"
    }
   ],
   "source": [
    "plt.subplot(121),plt.imshow(rst),plt.title('Output')\n",
    "plt.subplot(122),plt.imshow(rst_),plt.title('inv_Output')\n",
    "plt.show()"
   ]
  },
  {
   "cell_type": "markdown",
   "metadata": {},
   "source": [
    "## 射影変換後の画像で検出された四角形の４頂点の元画像における座標を調べる"
   ]
  },
  {
   "cell_type": "code",
   "execution_count": 18,
   "metadata": {},
   "outputs": [],
   "source": [
    "#同じサイズの画像を用意\n",
    "obj = np.zeros(rst.shape, dtype = np.uint8)\n",
    "#以下のように頂点の座標が求められたとする\n",
    "tlx = 1  \n",
    "tly = 1 \n",
    "brx = 100 \n",
    "bry = 100 \n",
    "#オブジェクトの範囲を白(0<)にする\n",
    "obj[tlx:brx+1,tly:bry+1]=[255,255,255]"
   ]
  },
  {
   "cell_type": "code",
   "execution_count": 19,
   "metadata": {},
   "outputs": [],
   "source": [
    "#透視変換行列の逆行列をかけて元の画像に変換する\n",
    "obj_ = cv2.warpPerspective(obj,M_,(cols,rows))"
   ]
  },
  {
   "cell_type": "code",
   "execution_count": 20,
   "metadata": {},
   "outputs": [],
   "source": [
    "#値が0以上となる最小、最大の座標(index)をもとめる\n",
    "indices = np.dstack(np.where(obj_ >0))\n",
    "x_min=indices[0][0][0]\n",
    "y_min=indices[0][0][1]\n",
    "x_max=indices[0][-1][0]\n",
    "y_max=indices[0][-1][1]"
   ]
  }
 ],
 "metadata": {
  "kernelspec": {
   "display_name": "Python 3",
   "language": "python",
   "name": "python3"
  },
  "language_info": {
   "codemirror_mode": {
    "name": "ipython",
    "version": 3
   },
   "file_extension": ".py",
   "mimetype": "text/x-python",
   "name": "python",
   "nbconvert_exporter": "python",
   "pygments_lexer": "ipython3",
   "version": "3.7.3"
  }
 },
 "nbformat": 4,
 "nbformat_minor": 2
}
